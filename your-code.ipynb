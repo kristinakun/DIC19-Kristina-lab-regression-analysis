{
 "cells": [
  {
   "cell_type": "markdown",
   "metadata": {},
   "source": [
    "# Lab: Regression Analysis"
   ]
  },
  {
   "cell_type": "markdown",
   "metadata": {},
   "source": [
    "### Before you start:\n",
    "\n",
    "* Read the README.md file\n",
    "* Comment as much as you can and use the resources (README.md file) \n",
    "\n",
    "Happy learning!"
   ]
  },
  {
   "cell_type": "code",
   "execution_count": 1,
   "metadata": {
    "ExecuteTime": {
     "end_time": "2020-03-22T18:49:41.599272Z",
     "start_time": "2020-03-22T18:49:41.592196Z"
    }
   },
   "outputs": [],
   "source": [
    "#done without bonus"
   ]
  },
  {
   "cell_type": "code",
   "execution_count": 2,
   "metadata": {
    "ExecuteTime": {
     "end_time": "2020-03-22T18:49:41.607508Z",
     "start_time": "2020-03-22T18:49:41.600271Z"
    }
   },
   "outputs": [],
   "source": [
    "#question?????????? \n",
    "#how can I see form summary table that maybe a model is biased? Rsquared high is not an indication that it is actually fitting best the data.\n"
   ]
  },
  {
   "cell_type": "markdown",
   "metadata": {},
   "source": [
    "## Challenge 1\n",
    "I work at a coding bootcamp, and I have developed a theory that the younger my students are, the more often they are late to class. In order to test my hypothesis, I have collected some data in the following table:\n",
    "\n",
    "| StudentID | Age | Tardies |\n",
    "|--------|-----|------------|\n",
    "| 1      | 17  | 10         |\n",
    "| 2      | 51  | 1          |\n",
    "| 3      | 27  | 5          |\n",
    "| 4      | 21  | 9         |\n",
    "| 5      | 36  |  4         |\n",
    "| 6      | 48  |  2         |\n",
    "| 7      | 19  |  9         |\n",
    "| 8      | 26  | 6          |\n",
    "| 9      | 54  |  0         |\n",
    "| 10     | 30  |  3         |"
   ]
  },
  {
   "cell_type": "markdown",
   "metadata": {},
   "source": [
    "Use this command to create a dataframe with the data provided in the table. \n",
    "~~~~\n",
    "student_data = pd.DataFrame({'X': [x_values], 'Y': [y_values]})\n",
    "~~~~"
   ]
  },
  {
   "cell_type": "code",
   "execution_count": 3,
   "metadata": {
    "ExecuteTime": {
     "end_time": "2020-03-22T18:49:43.162088Z",
     "start_time": "2020-03-22T18:49:41.609982Z"
    }
   },
   "outputs": [
    {
     "data": {
      "text/html": [
       "<div>\n",
       "<style scoped>\n",
       "    .dataframe tbody tr th:only-of-type {\n",
       "        vertical-align: middle;\n",
       "    }\n",
       "\n",
       "    .dataframe tbody tr th {\n",
       "        vertical-align: top;\n",
       "    }\n",
       "\n",
       "    .dataframe thead th {\n",
       "        text-align: right;\n",
       "    }\n",
       "</style>\n",
       "<table border=\"1\" class=\"dataframe\">\n",
       "  <thead>\n",
       "    <tr style=\"text-align: right;\">\n",
       "      <th></th>\n",
       "      <th>Age</th>\n",
       "      <th>Tardies</th>\n",
       "    </tr>\n",
       "  </thead>\n",
       "  <tbody>\n",
       "    <tr>\n",
       "      <td>0</td>\n",
       "      <td>17</td>\n",
       "      <td>10</td>\n",
       "    </tr>\n",
       "    <tr>\n",
       "      <td>1</td>\n",
       "      <td>51</td>\n",
       "      <td>1</td>\n",
       "    </tr>\n",
       "    <tr>\n",
       "      <td>2</td>\n",
       "      <td>27</td>\n",
       "      <td>5</td>\n",
       "    </tr>\n",
       "    <tr>\n",
       "      <td>3</td>\n",
       "      <td>21</td>\n",
       "      <td>9</td>\n",
       "    </tr>\n",
       "    <tr>\n",
       "      <td>4</td>\n",
       "      <td>36</td>\n",
       "      <td>4</td>\n",
       "    </tr>\n",
       "    <tr>\n",
       "      <td>5</td>\n",
       "      <td>48</td>\n",
       "      <td>2</td>\n",
       "    </tr>\n",
       "    <tr>\n",
       "      <td>6</td>\n",
       "      <td>19</td>\n",
       "      <td>9</td>\n",
       "    </tr>\n",
       "    <tr>\n",
       "      <td>7</td>\n",
       "      <td>26</td>\n",
       "      <td>6</td>\n",
       "    </tr>\n",
       "    <tr>\n",
       "      <td>8</td>\n",
       "      <td>54</td>\n",
       "      <td>0</td>\n",
       "    </tr>\n",
       "    <tr>\n",
       "      <td>9</td>\n",
       "      <td>30</td>\n",
       "      <td>3</td>\n",
       "    </tr>\n",
       "  </tbody>\n",
       "</table>\n",
       "</div>"
      ],
      "text/plain": [
       "   Age  Tardies\n",
       "0   17       10\n",
       "1   51        1\n",
       "2   27        5\n",
       "3   21        9\n",
       "4   36        4\n",
       "5   48        2\n",
       "6   19        9\n",
       "7   26        6\n",
       "8   54        0\n",
       "9   30        3"
      ]
     },
     "execution_count": 3,
     "metadata": {},
     "output_type": "execute_result"
    }
   ],
   "source": [
    "# Your code here. \n",
    "import pandas as pd\n",
    "\n",
    "student_data = pd.DataFrame({'Age': [17, 51, 27, 21, 36, 48, 19, 26, 54, 30], 'Tardies': [10, 1, 5, 9, 4, 2, 9, 6, 0, 3]})\n",
    "student_data"
   ]
  },
  {
   "cell_type": "markdown",
   "metadata": {},
   "source": [
    "Draw a dispersion diagram (scatter plot) for the data."
   ]
  },
  {
   "cell_type": "code",
   "execution_count": 4,
   "metadata": {
    "ExecuteTime": {
     "end_time": "2020-03-22T18:49:44.589215Z",
     "start_time": "2020-03-22T18:49:43.165195Z"
    }
   },
   "outputs": [
    {
     "data": {
      "text/plain": [
       "<seaborn.axisgrid.FacetGrid at 0x2859e033748>"
      ]
     },
     "execution_count": 4,
     "metadata": {},
     "output_type": "execute_result"
    }
   ],
   "source": [
    "# Your code here.\n",
    "import seaborn as sns\n",
    "\n",
    "sns.lmplot('Age','Tardies', data=student_data)"
   ]
  },
  {
   "cell_type": "markdown",
   "metadata": {},
   "source": [
    "Do you see a trend? Can you make any hypotheses about the relationship between age and number of tardies?"
   ]
  },
  {
   "cell_type": "code",
   "execution_count": 5,
   "metadata": {
    "ExecuteTime": {
     "end_time": "2020-03-22T18:49:44.596897Z",
     "start_time": "2020-03-22T18:49:44.592209Z"
    }
   },
   "outputs": [],
   "source": [
    "# Your response here. \n",
    "\n",
    "#We have a negative correlation. It seems that the hypotesis is true, the older the person, the less minutes late he/she is."
   ]
  },
  {
   "cell_type": "markdown",
   "metadata": {},
   "source": [
    "Calculate the covariance and correlation of the variables in your plot. What is the difference between these two measures? Compare their values. What do they tell you in this case? Add your responses as comments after your code."
   ]
  },
  {
   "cell_type": "code",
   "execution_count": 6,
   "metadata": {
    "ExecuteTime": {
     "end_time": "2020-03-22T18:49:44.616939Z",
     "start_time": "2020-03-22T18:49:44.599751Z"
    }
   },
   "outputs": [
    {
     "name": "stdout",
     "output_type": "stream",
     "text": [
      "Covariance between student age and tardies is -45.567\n",
      "Correlation between student age and tardies is -0.939\n"
     ]
    }
   ],
   "source": [
    "# Your response here.\n",
    "\n",
    "#Covariance indicates the direction of the linear relationship between variables. \n",
    "print(f\"Covariance between student age and tardies is {round(student_data['Age'].cov(student_data['Tardies']), 3)}\")\n",
    "\n",
    "\n",
    "#If COV(xi, xj) = 0 then variables are uncorrelated\n",
    "#If COV(xi, xj) > 0 then variables positively correlated\n",
    "#If COV(xi, xj) < 0 then variables negatively correlated\n",
    "\n",
    "      \n",
    "#Correlation measures both the strength and direction of the linear relationship between two variables. \n",
    "#Correlation values are standardized whereas, covariance values are not.\n",
    "print(f\"Correlation between student age and tardies is {round(student_data['Age'].corr(student_data['Tardies']), 3)}\")\n",
    "      \n",
    "#in our case variables are negatively correlated"
   ]
  },
  {
   "cell_type": "code",
   "execution_count": 7,
   "metadata": {
    "ExecuteTime": {
     "end_time": "2020-03-22T18:49:44.629125Z",
     "start_time": "2020-03-22T18:49:44.620130Z"
    }
   },
   "outputs": [
    {
     "name": "stdout",
     "output_type": "stream",
     "text": [
      "-0.939162688688712 5.566653834553479e-05\n"
     ]
    }
   ],
   "source": [
    "#Pearson correlation\n",
    "\n",
    "import scipy.stats as stats\n",
    "\n",
    "r, p = stats.pearsonr(student_data['Age'], student_data['Tardies'])\n",
    "print(r, p)"
   ]
  },
  {
   "cell_type": "markdown",
   "metadata": {},
   "source": [
    "Build a regression model for this data. What will be your outcome variable? What type of regression are you using? Add your responses as comments after your code."
   ]
  },
  {
   "cell_type": "code",
   "execution_count": 8,
   "metadata": {
    "ExecuteTime": {
     "end_time": "2020-03-22T18:49:45.265241Z",
     "start_time": "2020-03-22T18:49:44.632648Z"
    }
   },
   "outputs": [
    {
     "name": "stderr",
     "output_type": "stream",
     "text": [
      "C:\\Users\\krist\\Anaconda3\\lib\\site-packages\\numpy\\core\\fromnumeric.py:2389: FutureWarning: Method .ptp is deprecated and will be removed in a future version. Use numpy.ptp instead.\n",
      "  return ptp(axis=axis, out=out, **kwargs)\n",
      "C:\\Users\\krist\\Anaconda3\\lib\\site-packages\\scipy\\stats\\stats.py:1450: UserWarning: kurtosistest only valid for n>=20 ... continuing anyway, n=10\n",
      "  \"anyway, n=%i\" % int(n))\n"
     ]
    },
    {
     "data": {
      "text/html": [
       "<table class=\"simpletable\">\n",
       "<caption>OLS Regression Results</caption>\n",
       "<tr>\n",
       "  <th>Dep. Variable:</th>         <td>Tardies</td>     <th>  R-squared:         </th> <td>   0.882</td>\n",
       "</tr>\n",
       "<tr>\n",
       "  <th>Model:</th>                   <td>OLS</td>       <th>  Adj. R-squared:    </th> <td>   0.867</td>\n",
       "</tr>\n",
       "<tr>\n",
       "  <th>Method:</th>             <td>Least Squares</td>  <th>  F-statistic:       </th> <td>   59.81</td>\n",
       "</tr>\n",
       "<tr>\n",
       "  <th>Date:</th>             <td>Sun, 22 Mar 2020</td> <th>  Prob (F-statistic):</th> <td>5.57e-05</td>\n",
       "</tr>\n",
       "<tr>\n",
       "  <th>Time:</th>                 <td>19:49:45</td>     <th>  Log-Likelihood:    </th> <td> -15.622</td>\n",
       "</tr>\n",
       "<tr>\n",
       "  <th>No. Observations:</th>      <td>    10</td>      <th>  AIC:               </th> <td>   35.24</td>\n",
       "</tr>\n",
       "<tr>\n",
       "  <th>Df Residuals:</th>          <td>     8</td>      <th>  BIC:               </th> <td>   35.85</td>\n",
       "</tr>\n",
       "<tr>\n",
       "  <th>Df Model:</th>              <td>     1</td>      <th>                     </th>     <td> </td>   \n",
       "</tr>\n",
       "<tr>\n",
       "  <th>Covariance Type:</th>      <td>nonrobust</td>    <th>                     </th>     <td> </td>   \n",
       "</tr>\n",
       "</table>\n",
       "<table class=\"simpletable\">\n",
       "<tr>\n",
       "    <td></td>       <th>coef</th>     <th>std err</th>      <th>t</th>      <th>P>|t|</th>  <th>[0.025</th>    <th>0.975]</th>  \n",
       "</tr>\n",
       "<tr>\n",
       "  <th>const</th> <td>   12.8888</td> <td>    1.111</td> <td>   11.605</td> <td> 0.000</td> <td>   10.328</td> <td>   15.450</td>\n",
       "</tr>\n",
       "<tr>\n",
       "  <th>Age</th>   <td>   -0.2428</td> <td>    0.031</td> <td>   -7.734</td> <td> 0.000</td> <td>   -0.315</td> <td>   -0.170</td>\n",
       "</tr>\n",
       "</table>\n",
       "<table class=\"simpletable\">\n",
       "<tr>\n",
       "  <th>Omnibus:</th>       <td> 3.949</td> <th>  Durbin-Watson:     </th> <td>   1.754</td>\n",
       "</tr>\n",
       "<tr>\n",
       "  <th>Prob(Omnibus):</th> <td> 0.139</td> <th>  Jarque-Bera (JB):  </th> <td>   1.714</td>\n",
       "</tr>\n",
       "<tr>\n",
       "  <th>Skew:</th>          <td>-1.014</td> <th>  Prob(JB):          </th> <td>   0.424</td>\n",
       "</tr>\n",
       "<tr>\n",
       "  <th>Kurtosis:</th>      <td> 3.069</td> <th>  Cond. No.          </th> <td>    96.4</td>\n",
       "</tr>\n",
       "</table><br/><br/>Warnings:<br/>[1] Standard Errors assume that the covariance matrix of the errors is correctly specified."
      ],
      "text/plain": [
       "<class 'statsmodels.iolib.summary.Summary'>\n",
       "\"\"\"\n",
       "                            OLS Regression Results                            \n",
       "==============================================================================\n",
       "Dep. Variable:                Tardies   R-squared:                       0.882\n",
       "Model:                            OLS   Adj. R-squared:                  0.867\n",
       "Method:                 Least Squares   F-statistic:                     59.81\n",
       "Date:                Sun, 22 Mar 2020   Prob (F-statistic):           5.57e-05\n",
       "Time:                        19:49:45   Log-Likelihood:                -15.622\n",
       "No. Observations:                  10   AIC:                             35.24\n",
       "Df Residuals:                       8   BIC:                             35.85\n",
       "Df Model:                           1                                         \n",
       "Covariance Type:            nonrobust                                         \n",
       "==============================================================================\n",
       "                 coef    std err          t      P>|t|      [0.025      0.975]\n",
       "------------------------------------------------------------------------------\n",
       "const         12.8888      1.111     11.605      0.000      10.328      15.450\n",
       "Age           -0.2428      0.031     -7.734      0.000      -0.315      -0.170\n",
       "==============================================================================\n",
       "Omnibus:                        3.949   Durbin-Watson:                   1.754\n",
       "Prob(Omnibus):                  0.139   Jarque-Bera (JB):                1.714\n",
       "Skew:                          -1.014   Prob(JB):                        0.424\n",
       "Kurtosis:                       3.069   Cond. No.                         96.4\n",
       "==============================================================================\n",
       "\n",
       "Warnings:\n",
       "[1] Standard Errors assume that the covariance matrix of the errors is correctly specified.\n",
       "\"\"\""
      ]
     },
     "execution_count": 8,
     "metadata": {},
     "output_type": "execute_result"
    }
   ],
   "source": [
    "# Your response here.\n",
    "\n",
    "import statsmodels.api as sm\n",
    "\n",
    "X = student_data[\"Age\"] # X our input variables (or independent variables)\n",
    "y = student_data[\"Tardies\"] # Y our output/dependent variable\n",
    "X = sm.add_constant(X) # adding an intercept (beta_0) to our model\n",
    "\n",
    "# Note the difference in argument order\n",
    "model = sm.OLS(y, X).fit() # sm.OLS(output, input)\n",
    "predictions = model.predict(X) # make the predictions by the model\n",
    "\n",
    "# Print out the statistics\n",
    "model.summary()\n",
    "\n",
    "#comments:\n",
    "\n",
    "#outcome variable Tardiest, it's depending on age.\n",
    "#using linear regression\n",
    "\n",
    "#We can see that R-squared value is 0.882, meaning that this model explains 88% of the variance in our dependent variable (tardies)."
   ]
  },
  {
   "cell_type": "markdown",
   "metadata": {},
   "source": [
    "Plot your regression model on your scatter plot."
   ]
  },
  {
   "cell_type": "code",
   "execution_count": 9,
   "metadata": {
    "ExecuteTime": {
     "end_time": "2020-03-22T18:49:45.278302Z",
     "start_time": "2020-03-22T18:49:45.267543Z"
    }
   },
   "outputs": [
    {
     "name": "stdout",
     "output_type": "stream",
     "text": [
      "Slope:  -0.2428207709159808\n",
      "Intercept:  12.888803363135768\n",
      "r:  -0.9391626886887121\n",
      "p_val:  5.56665383455343e-05\n",
      "std_err:  0.03139728816158607\n"
     ]
    }
   ],
   "source": [
    "# Your code here.\n",
    "\n",
    "slope, intercept, r_value, p_value, std_err = stats.linregress(student_data['Age'], student_data['Tardies'])\n",
    "\n",
    "print('Slope: ',slope)\n",
    "print('Intercept: ',intercept)\n",
    "print('r: ', r_value)\n",
    "print('p_val: ', p_value)\n",
    "print('std_err: ', std_err)"
   ]
  },
  {
   "cell_type": "code",
   "execution_count": 10,
   "metadata": {
    "ExecuteTime": {
     "end_time": "2020-03-22T18:49:45.305714Z",
     "start_time": "2020-03-22T18:49:45.281674Z"
    }
   },
   "outputs": [],
   "source": [
    "y = intercept + slope * student_data['Age']"
   ]
  },
  {
   "cell_type": "code",
   "execution_count": 11,
   "metadata": {
    "ExecuteTime": {
     "end_time": "2020-03-22T18:49:45.559235Z",
     "start_time": "2020-03-22T18:49:45.305714Z"
    }
   },
   "outputs": [
    {
     "data": {
      "text/plain": [
       "[<matplotlib.lines.Line2D at 0x285a4d8c5c8>]"
      ]
     },
     "execution_count": 11,
     "metadata": {},
     "output_type": "execute_result"
    },
    {
     "data": {
      "image/png": "[encoded data removed]",
      "text/plain": [
       "<Figure size 432x288 with 1 Axes>"
      ]
     },
     "metadata": {
      "needs_background": "light"
     },
     "output_type": "display_data"
    }
   ],
   "source": [
    "import matplotlib.pyplot as plt\n",
    " \n",
    "plt.scatter(student_data['Age'], student_data['Tardies'])\n",
    "plt.plot(student_data['Age'], y, c='red')"
   ]
  },
  {
   "cell_type": "markdown",
   "metadata": {},
   "source": [
    "Interpret the results of your model. What can conclusions can you draw from your model and how confident in these conclusions are you? Can we say that age is a good predictor of tardiness? Add your responses as comments after your code."
   ]
  },
  {
   "cell_type": "code",
   "execution_count": 12,
   "metadata": {
    "ExecuteTime": {
     "end_time": "2020-03-22T18:49:45.566670Z",
     "start_time": "2020-03-22T18:49:45.561824Z"
    }
   },
   "outputs": [
    {
     "name": "stdout",
     "output_type": "stream",
     "text": [
      "True\n"
     ]
    }
   ],
   "source": [
    "# Your response here. \n",
    "\n",
    "#We can see that R-squared value is 0.882, meaning that this model explains 88% of the variance in our dependent variable (tardies).\n",
    "\n",
    "pvalue= 5.56665383455343e-05\n",
    "alpha = 0.05\n",
    "\n",
    "print(pvalue<alpha)\n",
    "\n",
    "#there is much less than 5% chance that the F-statistic of 59.81 could have occurred by chance under the assumption \n",
    "#of a valid Null hypothesis.Thus we reject the Null hypothesis and accept the alternate hypothesis, meaning that\n",
    "#there is a statistically significant impact on being late when age is changing"
   ]
  },
  {
   "cell_type": "markdown",
   "metadata": {},
   "source": [
    "## Challenge 2\n",
    "For the second part of this lab, we will use the vehicles.csv data set. You can find a copy of the dataset in the git hub folder. This dataset includes variables related to vehicle characteristics, including the model, make, and energy efficiency standards, as well as each car's CO2 emissions. As discussed in class the goal of this exercise is to predict vehicles' CO2 emissions based on several independent variables. "
   ]
  },
  {
   "cell_type": "code",
   "execution_count": 13,
   "metadata": {
    "ExecuteTime": {
     "end_time": "2020-03-22T18:49:45.729946Z",
     "start_time": "2020-03-22T18:49:45.568127Z"
    }
   },
   "outputs": [
    {
     "data": {
      "text/html": [
       "<div>\n",
       "<style scoped>\n",
       "    .dataframe tbody tr th:only-of-type {\n",
       "        vertical-align: middle;\n",
       "    }\n",
       "\n",
       "    .dataframe tbody tr th {\n",
       "        vertical-align: top;\n",
       "    }\n",
       "\n",
       "    .dataframe thead th {\n",
       "        text-align: right;\n",
       "    }\n",
       "</style>\n",
       "<table border=\"1\" class=\"dataframe\">\n",
       "  <thead>\n",
       "    <tr style=\"text-align: right;\">\n",
       "      <th></th>\n",
       "      <th>Make</th>\n",
       "      <th>Model</th>\n",
       "      <th>Year</th>\n",
       "      <th>Engine Displacement</th>\n",
       "      <th>Cylinders</th>\n",
       "      <th>Transmission</th>\n",
       "      <th>Drivetrain</th>\n",
       "      <th>Vehicle Class</th>\n",
       "      <th>Fuel Type</th>\n",
       "      <th>Fuel Barrels/Year</th>\n",
       "      <th>City MPG</th>\n",
       "      <th>Highway MPG</th>\n",
       "      <th>Combined MPG</th>\n",
       "      <th>CO2 Emission Grams/Mile</th>\n",
       "      <th>Fuel Cost/Year</th>\n",
       "    </tr>\n",
       "  </thead>\n",
       "  <tbody>\n",
       "    <tr>\n",
       "      <td>0</td>\n",
       "      <td>AM General</td>\n",
       "      <td>DJ Po Vehicle 2WD</td>\n",
       "      <td>1984</td>\n",
       "      <td>2.5</td>\n",
       "      <td>4.0</td>\n",
       "      <td>Automatic 3-spd</td>\n",
       "      <td>2-Wheel Drive</td>\n",
       "      <td>Special Purpose Vehicle 2WD</td>\n",
       "      <td>Regular</td>\n",
       "      <td>19.388824</td>\n",
       "      <td>18</td>\n",
       "      <td>17</td>\n",
       "      <td>17</td>\n",
       "      <td>522.764706</td>\n",
       "      <td>1950</td>\n",
       "    </tr>\n",
       "    <tr>\n",
       "      <td>1</td>\n",
       "      <td>AM General</td>\n",
       "      <td>FJ8c Post Office</td>\n",
       "      <td>1984</td>\n",
       "      <td>4.2</td>\n",
       "      <td>6.0</td>\n",
       "      <td>Automatic 3-spd</td>\n",
       "      <td>2-Wheel Drive</td>\n",
       "      <td>Special Purpose Vehicle 2WD</td>\n",
       "      <td>Regular</td>\n",
       "      <td>25.354615</td>\n",
       "      <td>13</td>\n",
       "      <td>13</td>\n",
       "      <td>13</td>\n",
       "      <td>683.615385</td>\n",
       "      <td>2550</td>\n",
       "    </tr>\n",
       "    <tr>\n",
       "      <td>2</td>\n",
       "      <td>AM General</td>\n",
       "      <td>Post Office DJ5 2WD</td>\n",
       "      <td>1985</td>\n",
       "      <td>2.5</td>\n",
       "      <td>4.0</td>\n",
       "      <td>Automatic 3-spd</td>\n",
       "      <td>Rear-Wheel Drive</td>\n",
       "      <td>Special Purpose Vehicle 2WD</td>\n",
       "      <td>Regular</td>\n",
       "      <td>20.600625</td>\n",
       "      <td>16</td>\n",
       "      <td>17</td>\n",
       "      <td>16</td>\n",
       "      <td>555.437500</td>\n",
       "      <td>2100</td>\n",
       "    </tr>\n",
       "    <tr>\n",
       "      <td>3</td>\n",
       "      <td>AM General</td>\n",
       "      <td>Post Office DJ8 2WD</td>\n",
       "      <td>1985</td>\n",
       "      <td>4.2</td>\n",
       "      <td>6.0</td>\n",
       "      <td>Automatic 3-spd</td>\n",
       "      <td>Rear-Wheel Drive</td>\n",
       "      <td>Special Purpose Vehicle 2WD</td>\n",
       "      <td>Regular</td>\n",
       "      <td>25.354615</td>\n",
       "      <td>13</td>\n",
       "      <td>13</td>\n",
       "      <td>13</td>\n",
       "      <td>683.615385</td>\n",
       "      <td>2550</td>\n",
       "    </tr>\n",
       "    <tr>\n",
       "      <td>4</td>\n",
       "      <td>ASC Incorporated</td>\n",
       "      <td>GNX</td>\n",
       "      <td>1987</td>\n",
       "      <td>3.8</td>\n",
       "      <td>6.0</td>\n",
       "      <td>Automatic 4-spd</td>\n",
       "      <td>Rear-Wheel Drive</td>\n",
       "      <td>Midsize Cars</td>\n",
       "      <td>Premium</td>\n",
       "      <td>20.600625</td>\n",
       "      <td>14</td>\n",
       "      <td>21</td>\n",
       "      <td>16</td>\n",
       "      <td>555.437500</td>\n",
       "      <td>2550</td>\n",
       "    </tr>\n",
       "  </tbody>\n",
       "</table>\n",
       "</div>"
      ],
      "text/plain": [
       "               Make                Model  Year  Engine Displacement  \\\n",
       "0        AM General    DJ Po Vehicle 2WD  1984                  2.5   \n",
       "1        AM General     FJ8c Post Office  1984                  4.2   \n",
       "2        AM General  Post Office DJ5 2WD  1985                  2.5   \n",
       "3        AM General  Post Office DJ8 2WD  1985                  4.2   \n",
       "4  ASC Incorporated                  GNX  1987                  3.8   \n",
       "\n",
       "   Cylinders     Transmission        Drivetrain                Vehicle Class  \\\n",
       "0        4.0  Automatic 3-spd     2-Wheel Drive  Special Purpose Vehicle 2WD   \n",
       "1        6.0  Automatic 3-spd     2-Wheel Drive  Special Purpose Vehicle 2WD   \n",
       "2        4.0  Automatic 3-spd  Rear-Wheel Drive  Special Purpose Vehicle 2WD   \n",
       "3        6.0  Automatic 3-spd  Rear-Wheel Drive  Special Purpose Vehicle 2WD   \n",
       "4        6.0  Automatic 4-spd  Rear-Wheel Drive                 Midsize Cars   \n",
       "\n",
       "  Fuel Type  Fuel Barrels/Year  City MPG  Highway MPG  Combined MPG  \\\n",
       "0   Regular          19.388824        18           17            17   \n",
       "1   Regular          25.354615        13           13            13   \n",
       "2   Regular          20.600625        16           17            16   \n",
       "3   Regular          25.354615        13           13            13   \n",
       "4   Premium          20.600625        14           21            16   \n",
       "\n",
       "   CO2 Emission Grams/Mile  Fuel Cost/Year  \n",
       "0               522.764706            1950  \n",
       "1               683.615385            2550  \n",
       "2               555.437500            2100  \n",
       "3               683.615385            2550  \n",
       "4               555.437500            2550  "
      ]
     },
     "execution_count": 13,
     "metadata": {},
     "output_type": "execute_result"
    }
   ],
   "source": [
    "# Import any libraries you may need & the data\n",
    "\n",
    "data = pd.read_csv('vehicles.csv')\n",
    "data.head()"
   ]
  },
  {
   "cell_type": "markdown",
   "metadata": {},
   "source": [
    "Let's use the following variables for our analysis: Year, Cylinders, Fuel Barrels/Year, Combined MPG, and Fuel Cost/Year. We will use 'CO2 Emission Grams/Mile' as our outcome variable. \n",
    "\n",
    "Calculate the correlations between each of these variables and the outcome. Which variable do you think will be the most important in determining CO2 emissions? Which provides the least amount of helpful information for determining CO2 emissions? Add your responses as comments after your code."
   ]
  },
  {
   "cell_type": "code",
   "execution_count": 14,
   "metadata": {
    "ExecuteTime": {
     "end_time": "2020-03-22T18:49:45.741900Z",
     "start_time": "2020-03-22T18:49:45.732774Z"
    }
   },
   "outputs": [
    {
     "data": {
      "text/plain": [
       "Year                       0\n",
       "Cylinders                  0\n",
       "Fuel Barrels/Year          0\n",
       "Combined MPG               0\n",
       "Fuel Cost/Year             0\n",
       "CO2 Emission Grams/Mile    0\n",
       "dtype: int64"
      ]
     },
     "execution_count": 14,
     "metadata": {},
     "output_type": "execute_result"
    }
   ],
   "source": [
    "data_filter = data[['Year', 'Cylinders', 'Fuel Barrels/Year', 'Combined MPG', 'Fuel Cost/Year', 'CO2 Emission Grams/Mile']]\n",
    "\n",
    "data_filter.isnull().sum() #checking if don't have missing data"
   ]
  },
  {
   "cell_type": "code",
   "execution_count": 15,
   "metadata": {
    "ExecuteTime": {
     "end_time": "2020-03-22T18:49:45.758216Z",
     "start_time": "2020-03-22T18:49:45.743439Z"
    }
   },
   "outputs": [
    {
     "data": {
      "text/plain": [
       "CO2 Emission Grams/Mile    1.000000\n",
       "Fuel Barrels/Year          0.986189\n",
       "Fuel Cost/Year             0.930865\n",
       "Cylinders                  0.752393\n",
       "Year                      -0.222300\n",
       "Combined MPG              -0.926229\n",
       "Name: CO2 Emission Grams/Mile, dtype: float64"
      ]
     },
     "execution_count": 15,
     "metadata": {},
     "output_type": "execute_result"
    }
   ],
   "source": [
    "# Your response here. \n",
    "\n",
    "cor_data = data_filter.corr()\n",
    "cor_data['CO2 Emission Grams/Mile'].sort_values(ascending = False)\n",
    "\n",
    "#the srongest correlation is with Fuel Barrels/Year, Fuel Cost/Year and Combined MPG, we will use these fro the model\n",
    "#the least information, with the smallest correlation Year ."
   ]
  },
  {
   "cell_type": "code",
   "execution_count": 16,
   "metadata": {
    "ExecuteTime": {
     "end_time": "2020-03-22T18:49:46.075561Z",
     "start_time": "2020-03-22T18:49:45.759908Z"
    }
   },
   "outputs": [
    {
     "data": {
      "text/plain": [
       "<matplotlib.axes._subplots.AxesSubplot at 0x285a4e10488>"
      ]
     },
     "execution_count": 16,
     "metadata": {},
     "output_type": "execute_result"
    },
    {
     "data": {
      "image/png": "[encoded data removed]",
      "text/plain": [
       "<Figure size 432x288 with 2 Axes>"
      ]
     },
     "metadata": {
      "needs_background": "light"
     },
     "output_type": "display_data"
    }
   ],
   "source": [
    "sns.heatmap(data_filter.corr(), cmap=\"YlGnBu\")"
   ]
  },
  {
   "cell_type": "code",
   "execution_count": 17,
   "metadata": {
    "ExecuteTime": {
     "end_time": "2020-03-22T18:50:00.418163Z",
     "start_time": "2020-03-22T18:49:46.075561Z"
    }
   },
   "outputs": [
    {
     "data": {
      "text/plain": [
       "<seaborn.axisgrid.FacetGrid at 0x285a640b988>"
      ]
     },
     "execution_count": 17,
     "metadata": {},
     "output_type": "execute_result"
    },
    {
     "data": {
      "image/png": "[encoded data removed]",
      "text/plain": [
       "<Figure size 360x360 with 1 Axes>"
      ]
     },
     "metadata": {
      "needs_background": "light"
     },
     "output_type": "display_data"
    },
    {
     "data": {
      "image/png": "[encoded data removed]",
      "text/plain": [
       "<Figure size 360x360 with 1 Axes>"
      ]
     },
     "metadata": {
      "needs_background": "light"
     },
     "output_type": "display_data"
    },
    {
     "data": {
      "image/png": "[encoded data removed]",
      "text/plain": [
       "<Figure size 360x360 with 1 Axes>"
      ]
     },
     "metadata": {
      "needs_background": "light"
     },
     "output_type": "display_data"
    }
   ],
   "source": [
    "sns.lmplot('Fuel Barrels/Year','CO2 Emission Grams/Mile', data=data_filter)\n",
    "sns.lmplot('Fuel Cost/Year','CO2 Emission Grams/Mile', data=data_filter)\n",
    "sns.lmplot('Combined MPG','CO2 Emission Grams/Mile', data=data_filter)"
   ]
  },
  {
   "cell_type": "markdown",
   "metadata": {},
   "source": [
    "Build a regression model for this data. What type of regression are you using? Add your responses as comments after your code."
   ]
  },
  {
   "cell_type": "code",
   "execution_count": 18,
   "metadata": {
    "ExecuteTime": {
     "end_time": "2020-03-22T18:50:00.535603Z",
     "start_time": "2020-03-22T18:50:00.422485Z"
    }
   },
   "outputs": [
    {
     "name": "stderr",
     "output_type": "stream",
     "text": [
      "C:\\Users\\krist\\Anaconda3\\lib\\site-packages\\numpy\\core\\fromnumeric.py:2389: FutureWarning: Method .ptp is deprecated and will be removed in a future version. Use numpy.ptp instead.\n",
      "  return ptp(axis=axis, out=out, **kwargs)\n"
     ]
    },
    {
     "data": {
      "text/html": [
       "<table class=\"simpletable\">\n",
       "<caption>OLS Regression Results</caption>\n",
       "<tr>\n",
       "  <th>Dep. Variable:</th>    <td>CO2 Emission Grams/Mile</td> <th>  R-squared:         </th>  <td>   0.980</td>  \n",
       "</tr>\n",
       "<tr>\n",
       "  <th>Model:</th>                      <td>OLS</td>           <th>  Adj. R-squared:    </th>  <td>   0.980</td>  \n",
       "</tr>\n",
       "<tr>\n",
       "  <th>Method:</th>                <td>Least Squares</td>      <th>  F-statistic:       </th>  <td>5.932e+05</td> \n",
       "</tr>\n",
       "<tr>\n",
       "  <th>Date:</th>                <td>Sun, 22 Mar 2020</td>     <th>  Prob (F-statistic):</th>   <td>  0.00</td>   \n",
       "</tr>\n",
       "<tr>\n",
       "  <th>Time:</th>                    <td>19:50:00</td>         <th>  Log-Likelihood:    </th> <td>-1.5235e+05</td>\n",
       "</tr>\n",
       "<tr>\n",
       "  <th>No. Observations:</th>         <td> 35952</td>          <th>  AIC:               </th>  <td>3.047e+05</td> \n",
       "</tr>\n",
       "<tr>\n",
       "  <th>Df Residuals:</th>             <td> 35948</td>          <th>  BIC:               </th>  <td>3.047e+05</td> \n",
       "</tr>\n",
       "<tr>\n",
       "  <th>Df Model:</th>                 <td>     3</td>          <th>                     </th>      <td> </td>     \n",
       "</tr>\n",
       "<tr>\n",
       "  <th>Covariance Type:</th>         <td>nonrobust</td>        <th>                     </th>      <td> </td>     \n",
       "</tr>\n",
       "</table>\n",
       "<table class=\"simpletable\">\n",
       "<tr>\n",
       "          <td></td>             <th>coef</th>     <th>std err</th>      <th>t</th>      <th>P>|t|</th>  <th>[0.025</th>    <th>0.975]</th>  \n",
       "</tr>\n",
       "<tr>\n",
       "  <th>const</th>             <td>  131.6742</td> <td>    1.691</td> <td>   77.861</td> <td> 0.000</td> <td>  128.359</td> <td>  134.989</td>\n",
       "</tr>\n",
       "<tr>\n",
       "  <th>Fuel Barrels/Year</th> <td>   19.6955</td> <td>    0.059</td> <td>  331.484</td> <td> 0.000</td> <td>   19.579</td> <td>   19.812</td>\n",
       "</tr>\n",
       "<tr>\n",
       "  <th>Combined MPG</th>      <td>   -3.1661</td> <td>    0.043</td> <td>  -73.626</td> <td> 0.000</td> <td>   -3.250</td> <td>   -3.082</td>\n",
       "</tr>\n",
       "<tr>\n",
       "  <th>Fuel Cost/Year</th>    <td>    0.0317</td> <td>    0.000</td> <td>   70.466</td> <td> 0.000</td> <td>    0.031</td> <td>    0.033</td>\n",
       "</tr>\n",
       "</table>\n",
       "<table class=\"simpletable\">\n",
       "<tr>\n",
       "  <th>Omnibus:</th>       <td>72593.271</td> <th>  Durbin-Watson:     </th>   <td>   0.762</td>   \n",
       "</tr>\n",
       "<tr>\n",
       "  <th>Prob(Omnibus):</th>  <td> 0.000</td>   <th>  Jarque-Bera (JB):  </th> <td>277905639.131</td>\n",
       "</tr>\n",
       "<tr>\n",
       "  <th>Skew:</th>           <td>16.687</td>   <th>  Prob(JB):          </th>   <td>    0.00</td>   \n",
       "</tr>\n",
       "<tr>\n",
       "  <th>Kurtosis:</th>       <td>432.423</td>  <th>  Cond. No.          </th>   <td>3.75e+04</td>   \n",
       "</tr>\n",
       "</table><br/><br/>Warnings:<br/>[1] Standard Errors assume that the covariance matrix of the errors is correctly specified.<br/>[2] The condition number is large, 3.75e+04. This might indicate that there are<br/>strong multicollinearity or other numerical problems."
      ],
      "text/plain": [
       "<class 'statsmodels.iolib.summary.Summary'>\n",
       "\"\"\"\n",
       "                               OLS Regression Results                              \n",
       "===================================================================================\n",
       "Dep. Variable:     CO2 Emission Grams/Mile   R-squared:                       0.980\n",
       "Model:                                 OLS   Adj. R-squared:                  0.980\n",
       "Method:                      Least Squares   F-statistic:                 5.932e+05\n",
       "Date:                     Sun, 22 Mar 2020   Prob (F-statistic):               0.00\n",
       "Time:                             19:50:00   Log-Likelihood:            -1.5235e+05\n",
       "No. Observations:                    35952   AIC:                         3.047e+05\n",
       "Df Residuals:                        35948   BIC:                         3.047e+05\n",
       "Df Model:                                3                                         \n",
       "Covariance Type:                 nonrobust                                         \n",
       "=====================================================================================\n",
       "                        coef    std err          t      P>|t|      [0.025      0.975]\n",
       "-------------------------------------------------------------------------------------\n",
       "const               131.6742      1.691     77.861      0.000     128.359     134.989\n",
       "Fuel Barrels/Year    19.6955      0.059    331.484      0.000      19.579      19.812\n",
       "Combined MPG         -3.1661      0.043    -73.626      0.000      -3.250      -3.082\n",
       "Fuel Cost/Year        0.0317      0.000     70.466      0.000       0.031       0.033\n",
       "==============================================================================\n",
       "Omnibus:                    72593.271   Durbin-Watson:                   0.762\n",
       "Prob(Omnibus):                  0.000   Jarque-Bera (JB):        277905639.131\n",
       "Skew:                          16.687   Prob(JB):                         0.00\n",
       "Kurtosis:                     432.423   Cond. No.                     3.75e+04\n",
       "==============================================================================\n",
       "\n",
       "Warnings:\n",
       "[1] Standard Errors assume that the covariance matrix of the errors is correctly specified.\n",
       "[2] The condition number is large, 3.75e+04. This might indicate that there are\n",
       "strong multicollinearity or other numerical problems.\n",
       "\"\"\""
      ]
     },
     "execution_count": 18,
     "metadata": {},
     "output_type": "execute_result"
    }
   ],
   "source": [
    "#question?????????? \n",
    "#how can I see form summary table that maybe a model is biased? Rsquared high is not an indication that it is actually fitting best the data.\n",
    "\n",
    "# Your response here. \n",
    "\n",
    "import statsmodels.api as sm\n",
    "\n",
    "X = data_filter[[\"Fuel Barrels/Year\", \"Combined MPG\", \"Fuel Cost/Year\"]] # X our input variables (or independent variables)\n",
    "y = data_filter[\"CO2 Emission Grams/Mile\"] # Y our output/dependent variable\n",
    "X = sm.add_constant(X) # adding an intercept (beta_0) to our model\n",
    "\n",
    "# Note the difference in argument order\n",
    "model = sm.OLS(y, X).fit() # sm.OLS(output, input)\n",
    "predictions = model.predict(X) # make the predictions by the model\n",
    "\n",
    "# Print out the statistics\n",
    "model.summary()\n",
    "\n",
    "#Uisng multiple linear regression"
   ]
  },
  {
   "cell_type": "markdown",
   "metadata": {},
   "source": [
    "Print your regression summary, and interpret the results. What are the most important varibles in your model and why? What can conclusions can you draw from your model and how confident in these conclusions are you? Add your responses as comments after your code."
   ]
  },
  {
   "cell_type": "code",
   "execution_count": 19,
   "metadata": {
    "ExecuteTime": {
     "end_time": "2020-03-22T18:50:00.547175Z",
     "start_time": "2020-03-22T18:50:00.540579Z"
    }
   },
   "outputs": [],
   "source": [
    "# Your response here. \n",
    "\n",
    "#R-squared value — 0.980, meaning that this model explains 98% of the variance in our dependent variable (CO2 Emission Grams/Mile). \n",
    "#With 'Fuel Barrels/Year' alone we already explain 97.3% of the variance, adding other variables slightly increased R².\n",
    "#We can see that all 3 variables are statistically significant in predicting the CO2 Emission Grams/Mile (pvalues are < 0.05) \n",
    "\n",
    "#We see that:\n",
    "#as Fuel Barrels/Year increases by 1, CO2 Emission Grams/Mile will increase by 19.6955\n",
    "#As Combined MPG increases by 1, CO2 Emission Grams/Mile will decrease by -3.1661\n",
    "#As Fuel Cost/Year increases by 1, CO2 Emission Grams/Mile will increase by 0.0317\n",
    "\n",
    "#From the comments above we can state that the most impactful variable is Fuel Barrels/Year"
   ]
  },
  {
   "cell_type": "code",
   "execution_count": 34,
   "metadata": {
    "ExecuteTime": {
     "end_time": "2020-03-22T19:09:43.679756Z",
     "start_time": "2020-03-22T19:09:43.653466Z"
    }
   },
   "outputs": [
    {
     "name": "stdout",
     "output_type": "stream",
     "text": [
      "       Actual   Predicted\n",
      "0  522.764706  521.461524\n",
      "1  683.615385  670.621392\n",
      "2  555.437500  553.243725\n",
      "3  683.615385  670.621392\n",
      "4  555.437500  567.491154\n",
      "5  403.954545  404.594690\n",
      "6  370.291667  370.506221\n",
      "7  444.350000  445.184253\n",
      "8  403.954545  404.594690\n",
      "9  370.291667  370.506221\n"
     ]
    }
   ],
   "source": [
    "#visualizing model, to investigate errors visually\n",
    "\n",
    "from sklearn.linear_model import LinearRegression\n",
    "\n",
    "x = data_filter[[\"Fuel Barrels/Year\", \"Combined MPG\", \"Fuel Cost/Year\"]]\n",
    "y = data_filter['CO2 Emission Grams/Mile']\n",
    "\n",
    "linear_regress = LinearRegression()\n",
    "linear_regress.fit(x,y)\n",
    "\n",
    "y_pred = linear_regress.predict(x)\n",
    "\n",
    "df = pd.DataFrame({'Actual': y, 'Predicted': y_pred})\n",
    "print(df.head(10))\n"
   ]
  },
  {
   "cell_type": "code",
   "execution_count": 38,
   "metadata": {
    "ExecuteTime": {
     "end_time": "2020-03-22T19:11:19.561852Z",
     "start_time": "2020-03-22T19:11:18.310198Z"
    }
   },
   "outputs": [
    {
     "data": {
      "text/plain": [
       "<matplotlib.axes._subplots.AxesSubplot at 0x28599d41408>"
      ]
     },
     "execution_count": 38,
     "metadata": {},
     "output_type": "execute_result"
    },
    {
     "data": {
      "image/png": "[encoded data removed]",
      "text/plain": [
       "<Figure size 864x576 with 1 Axes>"
      ]
     },
     "metadata": {
      "needs_background": "light"
     },
     "output_type": "display_data"
    }
   ],
   "source": [
    "df.sample(n = 50).plot(kind='bar',figsize=(12,8)) #plotting random 50 rows (to check a bit visually the fitting)\n",
    "\n",
    "#from this random sample we can see that there is a higher error between actual and predicted when CO2 value is higher"
   ]
  },
  {
   "cell_type": "markdown",
   "metadata": {},
   "source": [
    "## Bonus Challenge: Error Analysis"
   ]
  },
  {
   "cell_type": "markdown",
   "metadata": {},
   "source": [
    "I am suspicious about the last few parties I have thrown: it seems that the more people I invite the more people are unable to attend. To know if my hunch is supported by data, I have decided to do an analysis. I have collected my data in the table below, where X is the number of people I invited, and Y is the number of people who attended. \n",
    "\n",
    "|  X |  Y |\n",
    "|----|----|\n",
    "| 1  |  1 |\n",
    "| 3  |  2 |\n",
    "| 4  |  4 |\n",
    "| 6  |  4 |\n",
    "| 8  |  5 |\n",
    "| 9  |  7 |\n",
    "| 11 |  8 |\n",
    "| 14 |  13 |"
   ]
  },
  {
   "cell_type": "markdown",
   "metadata": {},
   "source": [
    "We want to know if the relationship modeled by the two random variables is linear or not, and therefore if it is appropriate to model it with a linear regression. \n",
    "First, build a dataframe with the data. "
   ]
  },
  {
   "cell_type": "code",
   "execution_count": 20,
   "metadata": {
    "ExecuteTime": {
     "end_time": "2020-03-22T18:50:00.556144Z",
     "start_time": "2020-03-22T18:50:00.547175Z"
    }
   },
   "outputs": [],
   "source": [
    "# Your code here. "
   ]
  },
  {
   "cell_type": "markdown",
   "metadata": {},
   "source": [
    "Draw a dispersion diagram (scatter plot) for the data, and fit a regression line."
   ]
  },
  {
   "cell_type": "code",
   "execution_count": 21,
   "metadata": {
    "ExecuteTime": {
     "end_time": "2020-03-22T18:50:00.563775Z",
     "start_time": "2020-03-22T18:50:00.559778Z"
    }
   },
   "outputs": [],
   "source": [
    "# Your code here."
   ]
  },
  {
   "cell_type": "markdown",
   "metadata": {},
   "source": [
    "What do you see? What does this plot tell you about the likely relationship between the variables? Print the results from your regression."
   ]
  },
  {
   "cell_type": "code",
   "execution_count": 22,
   "metadata": {
    "ExecuteTime": {
     "end_time": "2020-03-22T18:50:00.575514Z",
     "start_time": "2020-03-22T18:50:00.567731Z"
    }
   },
   "outputs": [],
   "source": [
    "# Your response here. "
   ]
  },
  {
   "cell_type": "markdown",
   "metadata": {},
   "source": [
    "Do you see any problematic points, or outliers, in your data? Remove these points and recalculate your regression. Print the new dispersion diagram with your new model and the results of your model. "
   ]
  },
  {
   "cell_type": "code",
   "execution_count": 23,
   "metadata": {
    "ExecuteTime": {
     "end_time": "2020-03-22T18:50:00.581909Z",
     "start_time": "2020-03-22T18:50:00.577613Z"
    }
   },
   "outputs": [],
   "source": [
    "# Your response here. "
   ]
  },
  {
   "cell_type": "markdown",
   "metadata": {},
   "source": [
    "What changed? Based on the results of the two models and your graphs, what can you say about the form of the data with the problematic point and without it?"
   ]
  },
  {
   "cell_type": "code",
   "execution_count": 24,
   "metadata": {
    "ExecuteTime": {
     "end_time": "2020-03-22T18:50:00.593817Z",
     "start_time": "2020-03-22T18:50:00.585767Z"
    }
   },
   "outputs": [],
   "source": [
    "# Your response here. "
   ]
  }
 ],
 "metadata": {
  "kernelspec": {
   "display_name": "Python 3",
   "language": "python",
   "name": "python3"
  },
  "language_info": {
   "codemirror_mode": {
    "name": "ipython",
    "version": 3
   },
   "file_extension": ".py",
   "mimetype": "text/x-python",
   "name": "python",
   "nbconvert_exporter": "python",
   "pygments_lexer": "ipython3",
   "version": "3.7.4"
  },
  "toc": {
   "base_numbering": 1,
   "nav_menu": {},
   "number_sections": true,
   "sideBar": true,
   "skip_h1_title": false,
   "title_cell": "Table of Contents",
   "title_sidebar": "Contents",
   "toc_cell": false,
   "toc_position": {},
   "toc_section_display": true,
   "toc_window_display": false
  },
  "varInspector": {
   "cols": {
    "lenName": 16,
    "lenType": 16,
    "lenVar": 40
   },
   "kernels_config": {
    "python": {
     "delete_cmd_postfix": "",
     "delete_cmd_prefix": "del ",
     "library": "var_list.py",
     "varRefreshCmd": "print(var_dic_list())"
    },
    "r": {
     "delete_cmd_postfix": ") ",
     "delete_cmd_prefix": "rm(",
     "library": "var_list.r",
     "varRefreshCmd": "cat(var_dic_list()) "
    }
   },
   "types_to_exclude": [
    "module",
    "function",
    "builtin_function_or_method",
    "instance",
    "_Feature"
   ],
   "window_display": false
  }
 },
 "nbformat": 4,
 "nbformat_minor": 2
}
